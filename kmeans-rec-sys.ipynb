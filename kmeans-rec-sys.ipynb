{
 "cells": [
  {
   "cell_type": "markdown",
   "metadata": {},
   "source": [
    "# K-means Clustering ( Items)"
   ]
  },
  {
   "cell_type": "markdown",
   "metadata": {},
   "source": [
    "#### Importing libraries"
   ]
  },
  {
   "cell_type": "code",
   "execution_count": 264,
   "metadata": {
    "execution": {
     "iopub.execute_input": "2024-04-07T17:40:10.484802Z",
     "iopub.status.busy": "2024-04-07T17:40:10.484314Z",
     "iopub.status.idle": "2024-04-07T17:40:10.493003Z",
     "shell.execute_reply": "2024-04-07T17:40:10.491478Z",
     "shell.execute_reply.started": "2024-04-07T17:40:10.484729Z"
    }
   },
   "outputs": [],
   "source": [
    "import numpy as np\n",
    "import pandas as pd\n",
    "import matplotlib.pyplot as plt\n",
    "plt.style.use(\"ggplot\")\n",
    "\n",
    "import sklearn\n",
    "from sklearn.decomposition import TruncatedSVD"
   ]
  },
  {
   "cell_type": "markdown",
   "metadata": {},
   "source": [
    "#### Loading the dataset"
   ]
  },
  {
   "cell_type": "code",
   "execution_count": 265,
   "metadata": {
    "execution": {
     "iopub.execute_input": "2024-04-07T17:40:10.500934Z",
     "iopub.status.busy": "2024-04-07T17:40:10.500563Z",
     "iopub.status.idle": "2024-04-07T17:40:14.660779Z",
     "shell.execute_reply": "2024-04-07T17:40:14.659795Z",
     "shell.execute_reply.started": "2024-04-07T17:40:10.500869Z"
    }
   },
   "outputs": [
    {
     "data": {
      "text/html": [
       "<div>\n",
       "<style scoped>\n",
       "    .dataframe tbody tr th:only-of-type {\n",
       "        vertical-align: middle;\n",
       "    }\n",
       "\n",
       "    .dataframe tbody tr th {\n",
       "        vertical-align: top;\n",
       "    }\n",
       "\n",
       "    .dataframe thead th {\n",
       "        text-align: right;\n",
       "    }\n",
       "</style>\n",
       "<table border=\"1\" class=\"dataframe\">\n",
       "  <thead>\n",
       "    <tr style=\"text-align: right;\">\n",
       "      <th></th>\n",
       "      <th>fit</th>\n",
       "      <th>user_id</th>\n",
       "      <th>bust size</th>\n",
       "      <th>item_id</th>\n",
       "      <th>weight</th>\n",
       "      <th>rating</th>\n",
       "      <th>rented for</th>\n",
       "      <th>review_text</th>\n",
       "      <th>body type</th>\n",
       "      <th>review_summary</th>\n",
       "      <th>category</th>\n",
       "      <th>height</th>\n",
       "      <th>size</th>\n",
       "      <th>age</th>\n",
       "      <th>review_date</th>\n",
       "    </tr>\n",
       "  </thead>\n",
       "  <tbody>\n",
       "    <tr>\n",
       "      <th>0</th>\n",
       "      <td>fit</td>\n",
       "      <td>420272</td>\n",
       "      <td>34d</td>\n",
       "      <td>2260466</td>\n",
       "      <td>137lbs</td>\n",
       "      <td>10.0</td>\n",
       "      <td>vacation</td>\n",
       "      <td>An adorable romper! Belt and zipper were a lit...</td>\n",
       "      <td>hourglass</td>\n",
       "      <td>So many compliments!</td>\n",
       "      <td>romper</td>\n",
       "      <td>5' 8\"</td>\n",
       "      <td>14</td>\n",
       "      <td>28.0</td>\n",
       "      <td>April 20, 2016</td>\n",
       "    </tr>\n",
       "    <tr>\n",
       "      <th>1</th>\n",
       "      <td>fit</td>\n",
       "      <td>273551</td>\n",
       "      <td>34b</td>\n",
       "      <td>153475</td>\n",
       "      <td>132lbs</td>\n",
       "      <td>10.0</td>\n",
       "      <td>other</td>\n",
       "      <td>I rented this dress for a photo shoot. The the...</td>\n",
       "      <td>straight &amp; narrow</td>\n",
       "      <td>I felt so glamourous!!!</td>\n",
       "      <td>gown</td>\n",
       "      <td>5' 6\"</td>\n",
       "      <td>12</td>\n",
       "      <td>36.0</td>\n",
       "      <td>June 18, 2013</td>\n",
       "    </tr>\n",
       "    <tr>\n",
       "      <th>2</th>\n",
       "      <td>fit</td>\n",
       "      <td>360448</td>\n",
       "      <td>NaN</td>\n",
       "      <td>1063761</td>\n",
       "      <td>NaN</td>\n",
       "      <td>10.0</td>\n",
       "      <td>party</td>\n",
       "      <td>This hugged in all the right places! It was a ...</td>\n",
       "      <td>NaN</td>\n",
       "      <td>It was a great time to celebrate the (almost) ...</td>\n",
       "      <td>sheath</td>\n",
       "      <td>5' 4\"</td>\n",
       "      <td>4</td>\n",
       "      <td>116.0</td>\n",
       "      <td>December 14, 2015</td>\n",
       "    </tr>\n",
       "    <tr>\n",
       "      <th>3</th>\n",
       "      <td>fit</td>\n",
       "      <td>909926</td>\n",
       "      <td>34c</td>\n",
       "      <td>126335</td>\n",
       "      <td>135lbs</td>\n",
       "      <td>8.0</td>\n",
       "      <td>formal affair</td>\n",
       "      <td>I rented this for my company's black tie award...</td>\n",
       "      <td>pear</td>\n",
       "      <td>Dress arrived on time and in perfect condition.</td>\n",
       "      <td>dress</td>\n",
       "      <td>5' 5\"</td>\n",
       "      <td>8</td>\n",
       "      <td>34.0</td>\n",
       "      <td>February 12, 2014</td>\n",
       "    </tr>\n",
       "    <tr>\n",
       "      <th>4</th>\n",
       "      <td>fit</td>\n",
       "      <td>151944</td>\n",
       "      <td>34b</td>\n",
       "      <td>616682</td>\n",
       "      <td>145lbs</td>\n",
       "      <td>10.0</td>\n",
       "      <td>wedding</td>\n",
       "      <td>I have always been petite in my upper body and...</td>\n",
       "      <td>athletic</td>\n",
       "      <td>Was in love with this dress !!!</td>\n",
       "      <td>gown</td>\n",
       "      <td>5' 9\"</td>\n",
       "      <td>12</td>\n",
       "      <td>27.0</td>\n",
       "      <td>September 26, 2016</td>\n",
       "    </tr>\n",
       "  </tbody>\n",
       "</table>\n",
       "</div>"
      ],
      "text/plain": [
       "   fit  user_id bust size  item_id  weight  rating     rented for  \\\n",
       "0  fit   420272       34d  2260466  137lbs    10.0       vacation   \n",
       "1  fit   273551       34b   153475  132lbs    10.0          other   \n",
       "2  fit   360448       NaN  1063761     NaN    10.0          party   \n",
       "3  fit   909926       34c   126335  135lbs     8.0  formal affair   \n",
       "4  fit   151944       34b   616682  145lbs    10.0        wedding   \n",
       "\n",
       "                                         review_text          body type  \\\n",
       "0  An adorable romper! Belt and zipper were a lit...          hourglass   \n",
       "1  I rented this dress for a photo shoot. The the...  straight & narrow   \n",
       "2  This hugged in all the right places! It was a ...                NaN   \n",
       "3  I rented this for my company's black tie award...               pear   \n",
       "4  I have always been petite in my upper body and...           athletic   \n",
       "\n",
       "                                      review_summary category height  size  \\\n",
       "0                               So many compliments!   romper  5' 8\"    14   \n",
       "1                            I felt so glamourous!!!     gown  5' 6\"    12   \n",
       "2  It was a great time to celebrate the (almost) ...   sheath  5' 4\"     4   \n",
       "3   Dress arrived on time and in perfect condition.     dress  5' 5\"     8   \n",
       "4                    Was in love with this dress !!!     gown  5' 9\"    12   \n",
       "\n",
       "     age         review_date  \n",
       "0   28.0      April 20, 2016  \n",
       "1   36.0       June 18, 2013  \n",
       "2  116.0   December 14, 2015  \n",
       "3   34.0   February 12, 2014  \n",
       "4   27.0  September 26, 2016  "
      ]
     },
     "execution_count": 265,
     "metadata": {},
     "output_type": "execute_result"
    }
   ],
   "source": [
    "product_ratings = pd.read_json('renttherunway_final_data.json', lines=True)\n",
    "\n",
    "product_ratings.head()"
   ]
  },
  {
   "cell_type": "code",
   "execution_count": 266,
   "metadata": {},
   "outputs": [],
   "source": [
    "import re\n",
    "\n",
    "def convert_height(height):\n",
    "    if isinstance(height, str):  # Check if the input is a string\n",
    "        match = re.match(r\"(\\d+)' (\\d+)\\\"\", height)\n",
    "        if match:\n",
    "            feet = int(match.group(1))\n",
    "            inches = int(match.group(2))\n",
    "            return feet * 12 + inches\n",
    "    return None  # Return None if input is not a string or doesn't match the pattern\n",
    "\n",
    "# Assuming product_ratings is a DataFrame containing your data\n",
    "product_ratings['height'] = product_ratings['height'].apply(convert_height)\n",
    "\n",
    "def extract_numeric(text):\n",
    "    if isinstance(text, str):\n",
    "        match = re.match(r'(\\d+)', text)\n",
    "        if match:\n",
    "            return float(match.group(1))\n",
    "    return text\n",
    "\n",
    "product_ratings['weight'] = product_ratings['weight'].apply(extract_numeric)\n"
   ]
  },
  {
   "cell_type": "code",
   "execution_count": 267,
   "metadata": {},
   "outputs": [
    {
     "data": {
      "text/plain": [
       "Index(['fit', 'user_id', 'bust size', 'item_id', 'weight', 'rating',\n",
       "       'rented for', 'review_text', 'body type', 'review_summary', 'category',\n",
       "       'height', 'size', 'age', 'review_date'],\n",
       "      dtype='object')"
      ]
     },
     "execution_count": 267,
     "metadata": {},
     "output_type": "execute_result"
    }
   ],
   "source": [
    "product_ratings.columns"
   ]
  },
  {
   "cell_type": "code",
   "execution_count": 268,
   "metadata": {
    "execution": {
     "iopub.execute_input": "2024-04-07T17:40:14.663731Z",
     "iopub.status.busy": "2024-04-07T17:40:14.663365Z",
     "iopub.status.idle": "2024-04-07T17:40:14.670669Z",
     "shell.execute_reply": "2024-04-07T17:40:14.669368Z",
     "shell.execute_reply.started": "2024-04-07T17:40:14.663645Z"
    }
   },
   "outputs": [
    {
     "data": {
      "text/plain": [
       "(192544, 15)"
      ]
     },
     "execution_count": 268,
     "metadata": {},
     "output_type": "execute_result"
    }
   ],
   "source": [
    "product_ratings.shape"
   ]
  },
  {
   "cell_type": "code",
   "execution_count": 269,
   "metadata": {
    "execution": {
     "iopub.execute_input": "2024-04-07T17:40:14.672929Z",
     "iopub.status.busy": "2024-04-07T17:40:14.672559Z",
     "iopub.status.idle": "2024-04-07T17:40:14.697833Z",
     "shell.execute_reply": "2024-04-07T17:40:14.696799Z",
     "shell.execute_reply.started": "2024-04-07T17:40:14.672840Z"
    }
   },
   "outputs": [
    {
     "data": {
      "text/html": [
       "<div>\n",
       "<style scoped>\n",
       "    .dataframe tbody tr th:only-of-type {\n",
       "        vertical-align: middle;\n",
       "    }\n",
       "\n",
       "    .dataframe tbody tr th {\n",
       "        vertical-align: top;\n",
       "    }\n",
       "\n",
       "    .dataframe thead th {\n",
       "        text-align: right;\n",
       "    }\n",
       "</style>\n",
       "<table border=\"1\" class=\"dataframe\">\n",
       "  <thead>\n",
       "    <tr style=\"text-align: right;\">\n",
       "      <th></th>\n",
       "      <th>rating</th>\n",
       "    </tr>\n",
       "    <tr>\n",
       "      <th>item_id</th>\n",
       "      <th></th>\n",
       "    </tr>\n",
       "  </thead>\n",
       "  <tbody>\n",
       "    <tr>\n",
       "      <th>126335</th>\n",
       "      <td>2231</td>\n",
       "    </tr>\n",
       "    <tr>\n",
       "      <th>174086</th>\n",
       "      <td>1724</td>\n",
       "    </tr>\n",
       "    <tr>\n",
       "      <th>123793</th>\n",
       "      <td>1714</td>\n",
       "    </tr>\n",
       "    <tr>\n",
       "      <th>132738</th>\n",
       "      <td>1577</td>\n",
       "    </tr>\n",
       "    <tr>\n",
       "      <th>145906</th>\n",
       "      <td>1472</td>\n",
       "    </tr>\n",
       "    <tr>\n",
       "      <th>127865</th>\n",
       "      <td>1393</td>\n",
       "    </tr>\n",
       "    <tr>\n",
       "      <th>136110</th>\n",
       "      <td>1197</td>\n",
       "    </tr>\n",
       "    <tr>\n",
       "      <th>137585</th>\n",
       "      <td>1100</td>\n",
       "    </tr>\n",
       "    <tr>\n",
       "      <th>131533</th>\n",
       "      <td>1091</td>\n",
       "    </tr>\n",
       "    <tr>\n",
       "      <th>172027</th>\n",
       "      <td>984</td>\n",
       "    </tr>\n",
       "  </tbody>\n",
       "</table>\n",
       "</div>"
      ],
      "text/plain": [
       "         rating\n",
       "item_id        \n",
       "126335     2231\n",
       "174086     1724\n",
       "123793     1714\n",
       "132738     1577\n",
       "145906     1472\n",
       "127865     1393\n",
       "136110     1197\n",
       "137585     1100\n",
       "131533     1091\n",
       "172027      984"
      ]
     },
     "execution_count": 269,
     "metadata": {},
     "output_type": "execute_result"
    }
   ],
   "source": [
    "popular_products = pd.DataFrame(product_ratings.groupby('item_id')['rating'].count())\n",
    "most_popular = popular_products.sort_values('rating', ascending=False)\n",
    "most_popular.head(10)"
   ]
  },
  {
   "cell_type": "code",
   "execution_count": 271,
   "metadata": {
    "execution": {
     "iopub.execute_input": "2024-04-07T17:40:14.711673Z",
     "iopub.status.busy": "2024-04-07T17:40:14.711274Z",
     "iopub.status.idle": "2024-04-07T17:40:15.390814Z",
     "shell.execute_reply": "2024-04-07T17:40:15.389651Z",
     "shell.execute_reply.started": "2024-04-07T17:40:14.711608Z"
    }
   },
   "outputs": [
    {
     "data": {
      "text/plain": [
       "<AxesSubplot:xlabel='item_id'>"
      ]
     },
     "execution_count": 271,
     "metadata": {},
     "output_type": "execute_result"
    },
    {
     "data": {
      "image/png": "[encoded data removed]",
      "text/plain": [
       "<Figure size 432x288 with 1 Axes>"
      ]
     },
     "metadata": {},
     "output_type": "display_data"
    }
   ],
   "source": [
    "most_popular.head(30).plot(kind = \"bar\")"
   ]
  },
  {
   "cell_type": "code",
   "execution_count": 272,
   "metadata": {
    "execution": {
     "iopub.execute_input": "2024-04-07T17:40:15.394774Z",
     "iopub.status.busy": "2024-04-07T17:40:15.394435Z",
     "iopub.status.idle": "2024-04-07T17:40:15.400837Z",
     "shell.execute_reply": "2024-04-07T17:40:15.399699Z",
     "shell.execute_reply.started": "2024-04-07T17:40:15.394721Z"
    }
   },
   "outputs": [],
   "source": [
    "product_ratings1 = product_ratings.head(10000)"
   ]
  },
  {
   "cell_type": "code",
   "execution_count": 273,
   "metadata": {
    "execution": {
     "iopub.execute_input": "2024-04-07T17:40:15.403065Z",
     "iopub.status.busy": "2024-04-07T17:40:15.402563Z",
     "iopub.status.idle": "2024-04-07T17:40:21.350839Z",
     "shell.execute_reply": "2024-04-07T17:40:21.349780Z",
     "shell.execute_reply.started": "2024-04-07T17:40:15.402897Z"
    }
   },
   "outputs": [
    {
     "data": {
      "text/html": [
       "<div>\n",
       "<style scoped>\n",
       "    .dataframe tbody tr th:only-of-type {\n",
       "        vertical-align: middle;\n",
       "    }\n",
       "\n",
       "    .dataframe tbody tr th {\n",
       "        vertical-align: top;\n",
       "    }\n",
       "\n",
       "    .dataframe thead th {\n",
       "        text-align: right;\n",
       "    }\n",
       "</style>\n",
       "<table border=\"1\" class=\"dataframe\">\n",
       "  <thead>\n",
       "    <tr style=\"text-align: right;\">\n",
       "      <th>item_id</th>\n",
       "      <th>123373</th>\n",
       "      <th>123793</th>\n",
       "      <th>124204</th>\n",
       "      <th>124553</th>\n",
       "      <th>125424</th>\n",
       "      <th>125465</th>\n",
       "      <th>125564</th>\n",
       "      <th>126335</th>\n",
       "      <th>127081</th>\n",
       "      <th>127495</th>\n",
       "      <th>...</th>\n",
       "      <th>2953965</th>\n",
       "      <th>2954118</th>\n",
       "      <th>2954754</th>\n",
       "      <th>2955734</th>\n",
       "      <th>2957481</th>\n",
       "      <th>2958376</th>\n",
       "      <th>2960025</th>\n",
       "      <th>2960913</th>\n",
       "      <th>2960969</th>\n",
       "      <th>2963850</th>\n",
       "    </tr>\n",
       "    <tr>\n",
       "      <th>user_id</th>\n",
       "      <th></th>\n",
       "      <th></th>\n",
       "      <th></th>\n",
       "      <th></th>\n",
       "      <th></th>\n",
       "      <th></th>\n",
       "      <th></th>\n",
       "      <th></th>\n",
       "      <th></th>\n",
       "      <th></th>\n",
       "      <th></th>\n",
       "      <th></th>\n",
       "      <th></th>\n",
       "      <th></th>\n",
       "      <th></th>\n",
       "      <th></th>\n",
       "      <th></th>\n",
       "      <th></th>\n",
       "      <th></th>\n",
       "      <th></th>\n",
       "      <th></th>\n",
       "    </tr>\n",
       "  </thead>\n",
       "  <tbody>\n",
       "    <tr>\n",
       "      <th>321</th>\n",
       "      <td>0</td>\n",
       "      <td>0</td>\n",
       "      <td>0</td>\n",
       "      <td>0</td>\n",
       "      <td>0</td>\n",
       "      <td>0</td>\n",
       "      <td>0</td>\n",
       "      <td>0</td>\n",
       "      <td>0</td>\n",
       "      <td>0</td>\n",
       "      <td>...</td>\n",
       "      <td>0</td>\n",
       "      <td>0</td>\n",
       "      <td>0</td>\n",
       "      <td>0</td>\n",
       "      <td>0</td>\n",
       "      <td>0</td>\n",
       "      <td>0</td>\n",
       "      <td>0</td>\n",
       "      <td>0</td>\n",
       "      <td>0</td>\n",
       "    </tr>\n",
       "    <tr>\n",
       "      <th>483</th>\n",
       "      <td>0</td>\n",
       "      <td>0</td>\n",
       "      <td>0</td>\n",
       "      <td>0</td>\n",
       "      <td>0</td>\n",
       "      <td>0</td>\n",
       "      <td>0</td>\n",
       "      <td>0</td>\n",
       "      <td>0</td>\n",
       "      <td>0</td>\n",
       "      <td>...</td>\n",
       "      <td>0</td>\n",
       "      <td>0</td>\n",
       "      <td>0</td>\n",
       "      <td>0</td>\n",
       "      <td>0</td>\n",
       "      <td>0</td>\n",
       "      <td>0</td>\n",
       "      <td>0</td>\n",
       "      <td>0</td>\n",
       "      <td>0</td>\n",
       "    </tr>\n",
       "    <tr>\n",
       "      <th>611</th>\n",
       "      <td>0</td>\n",
       "      <td>0</td>\n",
       "      <td>0</td>\n",
       "      <td>0</td>\n",
       "      <td>0</td>\n",
       "      <td>0</td>\n",
       "      <td>0</td>\n",
       "      <td>0</td>\n",
       "      <td>0</td>\n",
       "      <td>0</td>\n",
       "      <td>...</td>\n",
       "      <td>0</td>\n",
       "      <td>0</td>\n",
       "      <td>0</td>\n",
       "      <td>0</td>\n",
       "      <td>0</td>\n",
       "      <td>0</td>\n",
       "      <td>0</td>\n",
       "      <td>0</td>\n",
       "      <td>0</td>\n",
       "      <td>0</td>\n",
       "    </tr>\n",
       "    <tr>\n",
       "      <th>657</th>\n",
       "      <td>0</td>\n",
       "      <td>0</td>\n",
       "      <td>0</td>\n",
       "      <td>0</td>\n",
       "      <td>0</td>\n",
       "      <td>0</td>\n",
       "      <td>0</td>\n",
       "      <td>0</td>\n",
       "      <td>0</td>\n",
       "      <td>0</td>\n",
       "      <td>...</td>\n",
       "      <td>0</td>\n",
       "      <td>0</td>\n",
       "      <td>0</td>\n",
       "      <td>0</td>\n",
       "      <td>0</td>\n",
       "      <td>0</td>\n",
       "      <td>0</td>\n",
       "      <td>0</td>\n",
       "      <td>0</td>\n",
       "      <td>0</td>\n",
       "    </tr>\n",
       "    <tr>\n",
       "      <th>772</th>\n",
       "      <td>0</td>\n",
       "      <td>0</td>\n",
       "      <td>0</td>\n",
       "      <td>0</td>\n",
       "      <td>0</td>\n",
       "      <td>0</td>\n",
       "      <td>0</td>\n",
       "      <td>0</td>\n",
       "      <td>0</td>\n",
       "      <td>0</td>\n",
       "      <td>...</td>\n",
       "      <td>0</td>\n",
       "      <td>0</td>\n",
       "      <td>0</td>\n",
       "      <td>0</td>\n",
       "      <td>0</td>\n",
       "      <td>0</td>\n",
       "      <td>0</td>\n",
       "      <td>0</td>\n",
       "      <td>0</td>\n",
       "      <td>0</td>\n",
       "    </tr>\n",
       "  </tbody>\n",
       "</table>\n",
       "<p>5 rows × 3104 columns</p>\n",
       "</div>"
      ],
      "text/plain": [
       "item_id  123373   123793   124204   124553   125424   125465   125564   \\\n",
       "user_id                                                                  \n",
       "321            0        0        0        0        0        0        0   \n",
       "483            0        0        0        0        0        0        0   \n",
       "611            0        0        0        0        0        0        0   \n",
       "657            0        0        0        0        0        0        0   \n",
       "772            0        0        0        0        0        0        0   \n",
       "\n",
       "item_id  126335   127081   127495   ...  2953965  2954118  2954754  2955734  \\\n",
       "user_id                             ...                                       \n",
       "321            0        0        0  ...        0        0        0        0   \n",
       "483            0        0        0  ...        0        0        0        0   \n",
       "611            0        0        0  ...        0        0        0        0   \n",
       "657            0        0        0  ...        0        0        0        0   \n",
       "772            0        0        0  ...        0        0        0        0   \n",
       "\n",
       "item_id  2957481  2958376  2960025  2960913  2960969  2963850  \n",
       "user_id                                                        \n",
       "321            0        0        0        0        0        0  \n",
       "483            0        0        0        0        0        0  \n",
       "611            0        0        0        0        0        0  \n",
       "657            0        0        0        0        0        0  \n",
       "772            0        0        0        0        0        0  \n",
       "\n",
       "[5 rows x 3104 columns]"
      ]
     },
     "execution_count": 273,
     "metadata": {},
     "output_type": "execute_result"
    }
   ],
   "source": [
    "ratings_utility_matrix = product_ratings1.pivot_table(values='rating', index='user_id', columns='item_id', fill_value=0)\n",
    "ratings_utility_matrix.head()"
   ]
  },
  {
   "cell_type": "markdown",
   "metadata": {},
   "source": [
    "As expected, the utility matrix obtaned above is sparce, I have filled up the unknown values wth 0."
   ]
  },
  {
   "cell_type": "code",
   "execution_count": 274,
   "metadata": {
    "execution": {
     "iopub.execute_input": "2024-04-07T17:40:21.353119Z",
     "iopub.status.busy": "2024-04-07T17:40:21.352745Z",
     "iopub.status.idle": "2024-04-07T17:40:21.360778Z",
     "shell.execute_reply": "2024-04-07T17:40:21.359469Z",
     "shell.execute_reply.started": "2024-04-07T17:40:21.353052Z"
    }
   },
   "outputs": [
    {
     "data": {
      "text/plain": [
       "(9124, 3104)"
      ]
     },
     "execution_count": 274,
     "metadata": {},
     "output_type": "execute_result"
    }
   ],
   "source": [
    "ratings_utility_matrix.shape"
   ]
  },
  {
   "cell_type": "markdown",
   "metadata": {},
   "source": []
  },
  {
   "cell_type": "code",
   "execution_count": 275,
   "metadata": {},
   "outputs": [
    {
     "name": "stdout",
     "output_type": "stream",
     "text": [
      "Recommended Product IDs: [1896920 1056174 2017483 2900163  169179]\n"
     ]
    },
    {
     "name": "stderr",
     "output_type": "stream",
     "text": [
      "C:\\Users\\manis\\AppData\\Local\\Packages\\PythonSoftwareFoundation.Python.3.9_qbz5n2kfra8p0\\LocalCache\\local-packages\\Python39\\site-packages\\sklearn\\base.py:493: UserWarning: X does not have valid feature names, but KMeans was fitted with feature names\n",
      "  warnings.warn(\n"
     ]
    }
   ],
   "source": []
  },
  {
   "cell_type": "code",
   "execution_count": 276,
   "metadata": {},
   "outputs": [
    {
     "data": {
      "text/plain": [
       "Index(['fit', 'user_id', 'bust size', 'item_id', 'weight', 'rating',\n",
       "       'rented for', 'review_text', 'body type', 'review_summary', 'category',\n",
       "       'height', 'size', 'age', 'review_date'],\n",
       "      dtype='object')"
      ]
     },
     "execution_count": 276,
     "metadata": {},
     "output_type": "execute_result"
    }
   ],
   "source": [
    "product_descriptions1.columns"
   ]
  },
  {
   "cell_type": "markdown",
   "metadata": {},
   "source": [
    "Transposing the matrix"
   ]
  },
  {
   "cell_type": "code",
   "execution_count": 277,
   "metadata": {
    "execution": {
     "iopub.execute_input": "2024-04-07T17:40:21.362929Z",
     "iopub.status.busy": "2024-04-07T17:40:21.362553Z",
     "iopub.status.idle": "2024-04-07T17:40:21.395517Z",
     "shell.execute_reply": "2024-04-07T17:40:21.394365Z",
     "shell.execute_reply.started": "2024-04-07T17:40:21.362863Z"
    }
   },
   "outputs": [
    {
     "data": {
      "text/html": [
       "<div>\n",
       "<style scoped>\n",
       "    .dataframe tbody tr th:only-of-type {\n",
       "        vertical-align: middle;\n",
       "    }\n",
       "\n",
       "    .dataframe tbody tr th {\n",
       "        vertical-align: top;\n",
       "    }\n",
       "\n",
       "    .dataframe thead th {\n",
       "        text-align: right;\n",
       "    }\n",
       "</style>\n",
       "<table border=\"1\" class=\"dataframe\">\n",
       "  <thead>\n",
       "    <tr style=\"text-align: right;\">\n",
       "      <th>user_id</th>\n",
       "      <th>321</th>\n",
       "      <th>483</th>\n",
       "      <th>611</th>\n",
       "      <th>657</th>\n",
       "      <th>772</th>\n",
       "      <th>1066</th>\n",
       "      <th>1070</th>\n",
       "      <th>1089</th>\n",
       "      <th>1141</th>\n",
       "      <th>1149</th>\n",
       "      <th>...</th>\n",
       "      <th>999016</th>\n",
       "      <th>999183</th>\n",
       "      <th>999231</th>\n",
       "      <th>999274</th>\n",
       "      <th>999371</th>\n",
       "      <th>999518</th>\n",
       "      <th>999621</th>\n",
       "      <th>999726</th>\n",
       "      <th>999828</th>\n",
       "      <th>999910</th>\n",
       "    </tr>\n",
       "    <tr>\n",
       "      <th>item_id</th>\n",
       "      <th></th>\n",
       "      <th></th>\n",
       "      <th></th>\n",
       "      <th></th>\n",
       "      <th></th>\n",
       "      <th></th>\n",
       "      <th></th>\n",
       "      <th></th>\n",
       "      <th></th>\n",
       "      <th></th>\n",
       "      <th></th>\n",
       "      <th></th>\n",
       "      <th></th>\n",
       "      <th></th>\n",
       "      <th></th>\n",
       "      <th></th>\n",
       "      <th></th>\n",
       "      <th></th>\n",
       "      <th></th>\n",
       "      <th></th>\n",
       "      <th></th>\n",
       "    </tr>\n",
       "  </thead>\n",
       "  <tbody>\n",
       "    <tr>\n",
       "      <th>123373</th>\n",
       "      <td>0</td>\n",
       "      <td>0</td>\n",
       "      <td>0</td>\n",
       "      <td>0</td>\n",
       "      <td>0</td>\n",
       "      <td>0</td>\n",
       "      <td>0</td>\n",
       "      <td>0</td>\n",
       "      <td>10</td>\n",
       "      <td>0</td>\n",
       "      <td>...</td>\n",
       "      <td>0</td>\n",
       "      <td>0</td>\n",
       "      <td>0</td>\n",
       "      <td>0</td>\n",
       "      <td>0</td>\n",
       "      <td>0</td>\n",
       "      <td>0</td>\n",
       "      <td>0</td>\n",
       "      <td>0</td>\n",
       "      <td>0</td>\n",
       "    </tr>\n",
       "    <tr>\n",
       "      <th>123793</th>\n",
       "      <td>0</td>\n",
       "      <td>0</td>\n",
       "      <td>0</td>\n",
       "      <td>0</td>\n",
       "      <td>0</td>\n",
       "      <td>0</td>\n",
       "      <td>0</td>\n",
       "      <td>0</td>\n",
       "      <td>0</td>\n",
       "      <td>0</td>\n",
       "      <td>...</td>\n",
       "      <td>0</td>\n",
       "      <td>0</td>\n",
       "      <td>0</td>\n",
       "      <td>0</td>\n",
       "      <td>0</td>\n",
       "      <td>0</td>\n",
       "      <td>0</td>\n",
       "      <td>0</td>\n",
       "      <td>0</td>\n",
       "      <td>0</td>\n",
       "    </tr>\n",
       "    <tr>\n",
       "      <th>124204</th>\n",
       "      <td>0</td>\n",
       "      <td>0</td>\n",
       "      <td>0</td>\n",
       "      <td>0</td>\n",
       "      <td>0</td>\n",
       "      <td>0</td>\n",
       "      <td>0</td>\n",
       "      <td>0</td>\n",
       "      <td>0</td>\n",
       "      <td>0</td>\n",
       "      <td>...</td>\n",
       "      <td>0</td>\n",
       "      <td>0</td>\n",
       "      <td>0</td>\n",
       "      <td>0</td>\n",
       "      <td>0</td>\n",
       "      <td>0</td>\n",
       "      <td>0</td>\n",
       "      <td>0</td>\n",
       "      <td>0</td>\n",
       "      <td>0</td>\n",
       "    </tr>\n",
       "    <tr>\n",
       "      <th>124553</th>\n",
       "      <td>0</td>\n",
       "      <td>0</td>\n",
       "      <td>0</td>\n",
       "      <td>0</td>\n",
       "      <td>0</td>\n",
       "      <td>0</td>\n",
       "      <td>0</td>\n",
       "      <td>0</td>\n",
       "      <td>0</td>\n",
       "      <td>0</td>\n",
       "      <td>...</td>\n",
       "      <td>0</td>\n",
       "      <td>0</td>\n",
       "      <td>0</td>\n",
       "      <td>0</td>\n",
       "      <td>0</td>\n",
       "      <td>0</td>\n",
       "      <td>0</td>\n",
       "      <td>0</td>\n",
       "      <td>0</td>\n",
       "      <td>0</td>\n",
       "    </tr>\n",
       "    <tr>\n",
       "      <th>125424</th>\n",
       "      <td>0</td>\n",
       "      <td>0</td>\n",
       "      <td>0</td>\n",
       "      <td>0</td>\n",
       "      <td>0</td>\n",
       "      <td>0</td>\n",
       "      <td>0</td>\n",
       "      <td>0</td>\n",
       "      <td>0</td>\n",
       "      <td>0</td>\n",
       "      <td>...</td>\n",
       "      <td>0</td>\n",
       "      <td>0</td>\n",
       "      <td>0</td>\n",
       "      <td>0</td>\n",
       "      <td>0</td>\n",
       "      <td>0</td>\n",
       "      <td>0</td>\n",
       "      <td>0</td>\n",
       "      <td>0</td>\n",
       "      <td>0</td>\n",
       "    </tr>\n",
       "  </tbody>\n",
       "</table>\n",
       "<p>5 rows × 9124 columns</p>\n",
       "</div>"
      ],
      "text/plain": [
       "user_id  321     483     611     657     772     1066    1070    1089    \\\n",
       "item_id                                                                   \n",
       "123373        0       0       0       0       0       0       0       0   \n",
       "123793        0       0       0       0       0       0       0       0   \n",
       "124204        0       0       0       0       0       0       0       0   \n",
       "124553        0       0       0       0       0       0       0       0   \n",
       "125424        0       0       0       0       0       0       0       0   \n",
       "\n",
       "user_id  1141    1149    ...  999016  999183  999231  999274  999371  999518  \\\n",
       "item_id                  ...                                                   \n",
       "123373       10       0  ...       0       0       0       0       0       0   \n",
       "123793        0       0  ...       0       0       0       0       0       0   \n",
       "124204        0       0  ...       0       0       0       0       0       0   \n",
       "124553        0       0  ...       0       0       0       0       0       0   \n",
       "125424        0       0  ...       0       0       0       0       0       0   \n",
       "\n",
       "user_id  999621  999726  999828  999910  \n",
       "item_id                                  \n",
       "123373        0       0       0       0  \n",
       "123793        0       0       0       0  \n",
       "124204        0       0       0       0  \n",
       "124553        0       0       0       0  \n",
       "125424        0       0       0       0  \n",
       "\n",
       "[5 rows x 9124 columns]"
      ]
     },
     "execution_count": 277,
     "metadata": {},
     "output_type": "execute_result"
    }
   ],
   "source": [
    "X = ratings_utility_matrix.T\n",
    "X.head()"
   ]
  },
  {
   "cell_type": "code",
   "execution_count": 278,
   "metadata": {
    "execution": {
     "iopub.execute_input": "2024-04-07T17:40:21.397712Z",
     "iopub.status.busy": "2024-04-07T17:40:21.397275Z",
     "iopub.status.idle": "2024-04-07T17:40:21.404648Z",
     "shell.execute_reply": "2024-04-07T17:40:21.403628Z",
     "shell.execute_reply.started": "2024-04-07T17:40:21.397634Z"
    }
   },
   "outputs": [
    {
     "data": {
      "text/plain": [
       "(3104, 9124)"
      ]
     },
     "execution_count": 278,
     "metadata": {},
     "output_type": "execute_result"
    }
   ],
   "source": [
    "X.shape"
   ]
  },
  {
   "cell_type": "markdown",
   "metadata": {},
   "source": [
    "Unique products in subset of data"
   ]
  },
  {
   "cell_type": "code",
   "execution_count": 279,
   "metadata": {
    "execution": {
     "iopub.execute_input": "2024-04-07T17:40:21.406968Z",
     "iopub.status.busy": "2024-04-07T17:40:21.406569Z",
     "iopub.status.idle": "2024-04-07T17:40:21.417395Z",
     "shell.execute_reply": "2024-04-07T17:40:21.416310Z",
     "shell.execute_reply.started": "2024-04-07T17:40:21.406889Z"
    }
   },
   "outputs": [],
   "source": [
    "X1 = X"
   ]
  },
  {
   "cell_type": "code",
   "execution_count": 280,
   "metadata": {},
   "outputs": [
    {
     "data": {
      "text/html": [
       "<div>\n",
       "<style scoped>\n",
       "    .dataframe tbody tr th:only-of-type {\n",
       "        vertical-align: middle;\n",
       "    }\n",
       "\n",
       "    .dataframe tbody tr th {\n",
       "        vertical-align: top;\n",
       "    }\n",
       "\n",
       "    .dataframe thead th {\n",
       "        text-align: right;\n",
       "    }\n",
       "</style>\n",
       "<table border=\"1\" class=\"dataframe\">\n",
       "  <thead>\n",
       "    <tr style=\"text-align: right;\">\n",
       "      <th>user_id</th>\n",
       "      <th>321</th>\n",
       "      <th>483</th>\n",
       "      <th>611</th>\n",
       "      <th>657</th>\n",
       "      <th>772</th>\n",
       "      <th>1066</th>\n",
       "      <th>1070</th>\n",
       "      <th>1089</th>\n",
       "      <th>1141</th>\n",
       "      <th>1149</th>\n",
       "      <th>...</th>\n",
       "      <th>999016</th>\n",
       "      <th>999183</th>\n",
       "      <th>999231</th>\n",
       "      <th>999274</th>\n",
       "      <th>999371</th>\n",
       "      <th>999518</th>\n",
       "      <th>999621</th>\n",
       "      <th>999726</th>\n",
       "      <th>999828</th>\n",
       "      <th>999910</th>\n",
       "    </tr>\n",
       "    <tr>\n",
       "      <th>item_id</th>\n",
       "      <th></th>\n",
       "      <th></th>\n",
       "      <th></th>\n",
       "      <th></th>\n",
       "      <th></th>\n",
       "      <th></th>\n",
       "      <th></th>\n",
       "      <th></th>\n",
       "      <th></th>\n",
       "      <th></th>\n",
       "      <th></th>\n",
       "      <th></th>\n",
       "      <th></th>\n",
       "      <th></th>\n",
       "      <th></th>\n",
       "      <th></th>\n",
       "      <th></th>\n",
       "      <th></th>\n",
       "      <th></th>\n",
       "      <th></th>\n",
       "      <th></th>\n",
       "    </tr>\n",
       "  </thead>\n",
       "  <tbody>\n",
       "    <tr>\n",
       "      <th>123373</th>\n",
       "      <td>0</td>\n",
       "      <td>0</td>\n",
       "      <td>0</td>\n",
       "      <td>0</td>\n",
       "      <td>0</td>\n",
       "      <td>0</td>\n",
       "      <td>0</td>\n",
       "      <td>0</td>\n",
       "      <td>10</td>\n",
       "      <td>0</td>\n",
       "      <td>...</td>\n",
       "      <td>0</td>\n",
       "      <td>0</td>\n",
       "      <td>0</td>\n",
       "      <td>0</td>\n",
       "      <td>0</td>\n",
       "      <td>0</td>\n",
       "      <td>0</td>\n",
       "      <td>0</td>\n",
       "      <td>0</td>\n",
       "      <td>0</td>\n",
       "    </tr>\n",
       "    <tr>\n",
       "      <th>123793</th>\n",
       "      <td>0</td>\n",
       "      <td>0</td>\n",
       "      <td>0</td>\n",
       "      <td>0</td>\n",
       "      <td>0</td>\n",
       "      <td>0</td>\n",
       "      <td>0</td>\n",
       "      <td>0</td>\n",
       "      <td>0</td>\n",
       "      <td>0</td>\n",
       "      <td>...</td>\n",
       "      <td>0</td>\n",
       "      <td>0</td>\n",
       "      <td>0</td>\n",
       "      <td>0</td>\n",
       "      <td>0</td>\n",
       "      <td>0</td>\n",
       "      <td>0</td>\n",
       "      <td>0</td>\n",
       "      <td>0</td>\n",
       "      <td>0</td>\n",
       "    </tr>\n",
       "    <tr>\n",
       "      <th>124204</th>\n",
       "      <td>0</td>\n",
       "      <td>0</td>\n",
       "      <td>0</td>\n",
       "      <td>0</td>\n",
       "      <td>0</td>\n",
       "      <td>0</td>\n",
       "      <td>0</td>\n",
       "      <td>0</td>\n",
       "      <td>0</td>\n",
       "      <td>0</td>\n",
       "      <td>...</td>\n",
       "      <td>0</td>\n",
       "      <td>0</td>\n",
       "      <td>0</td>\n",
       "      <td>0</td>\n",
       "      <td>0</td>\n",
       "      <td>0</td>\n",
       "      <td>0</td>\n",
       "      <td>0</td>\n",
       "      <td>0</td>\n",
       "      <td>0</td>\n",
       "    </tr>\n",
       "    <tr>\n",
       "      <th>124553</th>\n",
       "      <td>0</td>\n",
       "      <td>0</td>\n",
       "      <td>0</td>\n",
       "      <td>0</td>\n",
       "      <td>0</td>\n",
       "      <td>0</td>\n",
       "      <td>0</td>\n",
       "      <td>0</td>\n",
       "      <td>0</td>\n",
       "      <td>0</td>\n",
       "      <td>...</td>\n",
       "      <td>0</td>\n",
       "      <td>0</td>\n",
       "      <td>0</td>\n",
       "      <td>0</td>\n",
       "      <td>0</td>\n",
       "      <td>0</td>\n",
       "      <td>0</td>\n",
       "      <td>0</td>\n",
       "      <td>0</td>\n",
       "      <td>0</td>\n",
       "    </tr>\n",
       "    <tr>\n",
       "      <th>125424</th>\n",
       "      <td>0</td>\n",
       "      <td>0</td>\n",
       "      <td>0</td>\n",
       "      <td>0</td>\n",
       "      <td>0</td>\n",
       "      <td>0</td>\n",
       "      <td>0</td>\n",
       "      <td>0</td>\n",
       "      <td>0</td>\n",
       "      <td>0</td>\n",
       "      <td>...</td>\n",
       "      <td>0</td>\n",
       "      <td>0</td>\n",
       "      <td>0</td>\n",
       "      <td>0</td>\n",
       "      <td>0</td>\n",
       "      <td>0</td>\n",
       "      <td>0</td>\n",
       "      <td>0</td>\n",
       "      <td>0</td>\n",
       "      <td>0</td>\n",
       "    </tr>\n",
       "    <tr>\n",
       "      <th>...</th>\n",
       "      <td>...</td>\n",
       "      <td>...</td>\n",
       "      <td>...</td>\n",
       "      <td>...</td>\n",
       "      <td>...</td>\n",
       "      <td>...</td>\n",
       "      <td>...</td>\n",
       "      <td>...</td>\n",
       "      <td>...</td>\n",
       "      <td>...</td>\n",
       "      <td>...</td>\n",
       "      <td>...</td>\n",
       "      <td>...</td>\n",
       "      <td>...</td>\n",
       "      <td>...</td>\n",
       "      <td>...</td>\n",
       "      <td>...</td>\n",
       "      <td>...</td>\n",
       "      <td>...</td>\n",
       "      <td>...</td>\n",
       "      <td>...</td>\n",
       "    </tr>\n",
       "    <tr>\n",
       "      <th>2958376</th>\n",
       "      <td>0</td>\n",
       "      <td>0</td>\n",
       "      <td>0</td>\n",
       "      <td>0</td>\n",
       "      <td>0</td>\n",
       "      <td>0</td>\n",
       "      <td>0</td>\n",
       "      <td>0</td>\n",
       "      <td>0</td>\n",
       "      <td>0</td>\n",
       "      <td>...</td>\n",
       "      <td>0</td>\n",
       "      <td>0</td>\n",
       "      <td>0</td>\n",
       "      <td>0</td>\n",
       "      <td>0</td>\n",
       "      <td>0</td>\n",
       "      <td>0</td>\n",
       "      <td>0</td>\n",
       "      <td>0</td>\n",
       "      <td>0</td>\n",
       "    </tr>\n",
       "    <tr>\n",
       "      <th>2960025</th>\n",
       "      <td>0</td>\n",
       "      <td>0</td>\n",
       "      <td>0</td>\n",
       "      <td>0</td>\n",
       "      <td>0</td>\n",
       "      <td>0</td>\n",
       "      <td>0</td>\n",
       "      <td>0</td>\n",
       "      <td>0</td>\n",
       "      <td>0</td>\n",
       "      <td>...</td>\n",
       "      <td>0</td>\n",
       "      <td>0</td>\n",
       "      <td>0</td>\n",
       "      <td>0</td>\n",
       "      <td>0</td>\n",
       "      <td>0</td>\n",
       "      <td>0</td>\n",
       "      <td>0</td>\n",
       "      <td>0</td>\n",
       "      <td>0</td>\n",
       "    </tr>\n",
       "    <tr>\n",
       "      <th>2960913</th>\n",
       "      <td>0</td>\n",
       "      <td>0</td>\n",
       "      <td>0</td>\n",
       "      <td>0</td>\n",
       "      <td>0</td>\n",
       "      <td>0</td>\n",
       "      <td>0</td>\n",
       "      <td>0</td>\n",
       "      <td>0</td>\n",
       "      <td>0</td>\n",
       "      <td>...</td>\n",
       "      <td>0</td>\n",
       "      <td>0</td>\n",
       "      <td>0</td>\n",
       "      <td>0</td>\n",
       "      <td>0</td>\n",
       "      <td>0</td>\n",
       "      <td>0</td>\n",
       "      <td>0</td>\n",
       "      <td>0</td>\n",
       "      <td>0</td>\n",
       "    </tr>\n",
       "    <tr>\n",
       "      <th>2960969</th>\n",
       "      <td>0</td>\n",
       "      <td>0</td>\n",
       "      <td>0</td>\n",
       "      <td>0</td>\n",
       "      <td>0</td>\n",
       "      <td>0</td>\n",
       "      <td>0</td>\n",
       "      <td>0</td>\n",
       "      <td>0</td>\n",
       "      <td>0</td>\n",
       "      <td>...</td>\n",
       "      <td>0</td>\n",
       "      <td>0</td>\n",
       "      <td>0</td>\n",
       "      <td>0</td>\n",
       "      <td>0</td>\n",
       "      <td>0</td>\n",
       "      <td>0</td>\n",
       "      <td>0</td>\n",
       "      <td>0</td>\n",
       "      <td>0</td>\n",
       "    </tr>\n",
       "    <tr>\n",
       "      <th>2963850</th>\n",
       "      <td>0</td>\n",
       "      <td>0</td>\n",
       "      <td>0</td>\n",
       "      <td>0</td>\n",
       "      <td>0</td>\n",
       "      <td>0</td>\n",
       "      <td>0</td>\n",
       "      <td>0</td>\n",
       "      <td>0</td>\n",
       "      <td>0</td>\n",
       "      <td>...</td>\n",
       "      <td>0</td>\n",
       "      <td>0</td>\n",
       "      <td>0</td>\n",
       "      <td>0</td>\n",
       "      <td>0</td>\n",
       "      <td>0</td>\n",
       "      <td>0</td>\n",
       "      <td>0</td>\n",
       "      <td>0</td>\n",
       "      <td>0</td>\n",
       "    </tr>\n",
       "  </tbody>\n",
       "</table>\n",
       "<p>3104 rows × 9124 columns</p>\n",
       "</div>"
      ],
      "text/plain": [
       "user_id  321     483     611     657     772     1066    1070    1089    \\\n",
       "item_id                                                                   \n",
       "123373        0       0       0       0       0       0       0       0   \n",
       "123793        0       0       0       0       0       0       0       0   \n",
       "124204        0       0       0       0       0       0       0       0   \n",
       "124553        0       0       0       0       0       0       0       0   \n",
       "125424        0       0       0       0       0       0       0       0   \n",
       "...         ...     ...     ...     ...     ...     ...     ...     ...   \n",
       "2958376       0       0       0       0       0       0       0       0   \n",
       "2960025       0       0       0       0       0       0       0       0   \n",
       "2960913       0       0       0       0       0       0       0       0   \n",
       "2960969       0       0       0       0       0       0       0       0   \n",
       "2963850       0       0       0       0       0       0       0       0   \n",
       "\n",
       "user_id  1141    1149    ...  999016  999183  999231  999274  999371  999518  \\\n",
       "item_id                  ...                                                   \n",
       "123373       10       0  ...       0       0       0       0       0       0   \n",
       "123793        0       0  ...       0       0       0       0       0       0   \n",
       "124204        0       0  ...       0       0       0       0       0       0   \n",
       "124553        0       0  ...       0       0       0       0       0       0   \n",
       "125424        0       0  ...       0       0       0       0       0       0   \n",
       "...         ...     ...  ...     ...     ...     ...     ...     ...     ...   \n",
       "2958376       0       0  ...       0       0       0       0       0       0   \n",
       "2960025       0       0  ...       0       0       0       0       0       0   \n",
       "2960913       0       0  ...       0       0       0       0       0       0   \n",
       "2960969       0       0  ...       0       0       0       0       0       0   \n",
       "2963850       0       0  ...       0       0       0       0       0       0   \n",
       "\n",
       "user_id  999621  999726  999828  999910  \n",
       "item_id                                  \n",
       "123373        0       0       0       0  \n",
       "123793        0       0       0       0  \n",
       "124204        0       0       0       0  \n",
       "124553        0       0       0       0  \n",
       "125424        0       0       0       0  \n",
       "...         ...     ...     ...     ...  \n",
       "2958376       0       0       0       0  \n",
       "2960025       0       0       0       0  \n",
       "2960913       0       0       0       0  \n",
       "2960969       0       0       0       0  \n",
       "2963850       0       0       0       0  \n",
       "\n",
       "[3104 rows x 9124 columns]"
      ]
     },
     "execution_count": 280,
     "metadata": {},
     "output_type": "execute_result"
    }
   ],
   "source": [
    "X"
   ]
  },
  {
   "cell_type": "markdown",
   "metadata": {},
   "source": [
    "## Recommendation System - Part III\n",
    "* For a business without any user-item purchase history, a search engine based recommendation system can be designed for users. The product recommendations can be based on textual clustering analysis given in product description.\n",
    "* **Dataset : **[Home Depot's dataset with product dataset.](https://www.kaggle.com/c/home-depot-product-search-relevance/data)"
   ]
  },
  {
   "cell_type": "code",
   "execution_count": 290,
   "metadata": {
    "execution": {
     "iopub.execute_input": "2024-04-07T17:40:26.243901Z",
     "iopub.status.busy": "2024-04-07T17:40:26.243600Z",
     "iopub.status.idle": "2024-04-07T17:40:26.249814Z",
     "shell.execute_reply": "2024-04-07T17:40:26.248778Z",
     "shell.execute_reply.started": "2024-04-07T17:40:26.243852Z"
    }
   },
   "outputs": [],
   "source": [
    "# Importing libraries\n",
    "\n",
    "from sklearn.feature_extraction.text import TfidfVectorizer, CountVectorizer\n",
    "from sklearn.neighbors import NearestNeighbors\n",
    "from sklearn.cluster import KMeans\n",
    "from sklearn.metrics import adjusted_rand_score"
   ]
  },
  {
   "cell_type": "markdown",
   "metadata": {},
   "source": [
    "### Item to item based recommendation system based on product description\n",
    "\n",
    "Applicable when business is setting up its E-commerce website for the first time"
   ]
  },
  {
   "cell_type": "code",
   "execution_count": 291,
   "metadata": {
    "execution": {
     "iopub.execute_input": "2024-04-07T17:40:26.252205Z",
     "iopub.status.busy": "2024-04-07T17:40:26.251843Z",
     "iopub.status.idle": "2024-04-07T17:40:30.431012Z",
     "shell.execute_reply": "2024-04-07T17:40:30.429832Z",
     "shell.execute_reply.started": "2024-04-07T17:40:26.252135Z"
    }
   },
   "outputs": [
    {
     "data": {
      "text/plain": [
       "(192544, 15)"
      ]
     },
     "execution_count": 291,
     "metadata": {},
     "output_type": "execute_result"
    }
   ],
   "source": [
    "product_descriptions = pd.read_json('renttherunway_final_data.json', lines=True)\n",
    "product_descriptions.shape"
   ]
  },
  {
   "cell_type": "markdown",
   "metadata": {},
   "source": [
    "#### Checking for missing values"
   ]
  },
  {
   "cell_type": "code",
   "execution_count": 292,
   "metadata": {
    "execution": {
     "iopub.execute_input": "2024-04-07T17:40:30.432762Z",
     "iopub.status.busy": "2024-04-07T17:40:30.432414Z",
     "iopub.status.idle": "2024-04-07T17:40:30.881633Z",
     "shell.execute_reply": "2024-04-07T17:40:30.880627Z",
     "shell.execute_reply.started": "2024-04-07T17:40:30.432700Z"
    }
   },
   "outputs": [
    {
     "data": {
      "text/html": [
       "<div>\n",
       "<style scoped>\n",
       "    .dataframe tbody tr th:only-of-type {\n",
       "        vertical-align: middle;\n",
       "    }\n",
       "\n",
       "    .dataframe tbody tr th {\n",
       "        vertical-align: top;\n",
       "    }\n",
       "\n",
       "    .dataframe thead th {\n",
       "        text-align: right;\n",
       "    }\n",
       "</style>\n",
       "<table border=\"1\" class=\"dataframe\">\n",
       "  <thead>\n",
       "    <tr style=\"text-align: right;\">\n",
       "      <th></th>\n",
       "      <th>fit</th>\n",
       "      <th>user_id</th>\n",
       "      <th>bust size</th>\n",
       "      <th>item_id</th>\n",
       "      <th>weight</th>\n",
       "      <th>rating</th>\n",
       "      <th>rented for</th>\n",
       "      <th>review_text</th>\n",
       "      <th>body type</th>\n",
       "      <th>review_summary</th>\n",
       "      <th>category</th>\n",
       "      <th>height</th>\n",
       "      <th>size</th>\n",
       "      <th>age</th>\n",
       "      <th>review_date</th>\n",
       "    </tr>\n",
       "  </thead>\n",
       "  <tbody>\n",
       "    <tr>\n",
       "      <th>0</th>\n",
       "      <td>fit</td>\n",
       "      <td>420272</td>\n",
       "      <td>34d</td>\n",
       "      <td>2260466</td>\n",
       "      <td>137lbs</td>\n",
       "      <td>10.0</td>\n",
       "      <td>vacation</td>\n",
       "      <td>An adorable romper! Belt and zipper were a lit...</td>\n",
       "      <td>hourglass</td>\n",
       "      <td>So many compliments!</td>\n",
       "      <td>romper</td>\n",
       "      <td>5' 8\"</td>\n",
       "      <td>14</td>\n",
       "      <td>28.0</td>\n",
       "      <td>April 20, 2016</td>\n",
       "    </tr>\n",
       "    <tr>\n",
       "      <th>1</th>\n",
       "      <td>fit</td>\n",
       "      <td>273551</td>\n",
       "      <td>34b</td>\n",
       "      <td>153475</td>\n",
       "      <td>132lbs</td>\n",
       "      <td>10.0</td>\n",
       "      <td>other</td>\n",
       "      <td>I rented this dress for a photo shoot. The the...</td>\n",
       "      <td>straight &amp; narrow</td>\n",
       "      <td>I felt so glamourous!!!</td>\n",
       "      <td>gown</td>\n",
       "      <td>5' 6\"</td>\n",
       "      <td>12</td>\n",
       "      <td>36.0</td>\n",
       "      <td>June 18, 2013</td>\n",
       "    </tr>\n",
       "    <tr>\n",
       "      <th>3</th>\n",
       "      <td>fit</td>\n",
       "      <td>909926</td>\n",
       "      <td>34c</td>\n",
       "      <td>126335</td>\n",
       "      <td>135lbs</td>\n",
       "      <td>8.0</td>\n",
       "      <td>formal affair</td>\n",
       "      <td>I rented this for my company's black tie award...</td>\n",
       "      <td>pear</td>\n",
       "      <td>Dress arrived on time and in perfect condition.</td>\n",
       "      <td>dress</td>\n",
       "      <td>5' 5\"</td>\n",
       "      <td>8</td>\n",
       "      <td>34.0</td>\n",
       "      <td>February 12, 2014</td>\n",
       "    </tr>\n",
       "    <tr>\n",
       "      <th>4</th>\n",
       "      <td>fit</td>\n",
       "      <td>151944</td>\n",
       "      <td>34b</td>\n",
       "      <td>616682</td>\n",
       "      <td>145lbs</td>\n",
       "      <td>10.0</td>\n",
       "      <td>wedding</td>\n",
       "      <td>I have always been petite in my upper body and...</td>\n",
       "      <td>athletic</td>\n",
       "      <td>Was in love with this dress !!!</td>\n",
       "      <td>gown</td>\n",
       "      <td>5' 9\"</td>\n",
       "      <td>12</td>\n",
       "      <td>27.0</td>\n",
       "      <td>September 26, 2016</td>\n",
       "    </tr>\n",
       "    <tr>\n",
       "      <th>5</th>\n",
       "      <td>fit</td>\n",
       "      <td>734848</td>\n",
       "      <td>32b</td>\n",
       "      <td>364092</td>\n",
       "      <td>138lbs</td>\n",
       "      <td>8.0</td>\n",
       "      <td>date</td>\n",
       "      <td>Didn't actually wear it. It fit perfectly. The...</td>\n",
       "      <td>athletic</td>\n",
       "      <td>Traditional with a touch a sass</td>\n",
       "      <td>dress</td>\n",
       "      <td>5' 8\"</td>\n",
       "      <td>8</td>\n",
       "      <td>45.0</td>\n",
       "      <td>April 30, 2016</td>\n",
       "    </tr>\n",
       "  </tbody>\n",
       "</table>\n",
       "</div>"
      ],
      "text/plain": [
       "   fit  user_id bust size  item_id  weight  rating     rented for  \\\n",
       "0  fit   420272       34d  2260466  137lbs    10.0       vacation   \n",
       "1  fit   273551       34b   153475  132lbs    10.0          other   \n",
       "3  fit   909926       34c   126335  135lbs     8.0  formal affair   \n",
       "4  fit   151944       34b   616682  145lbs    10.0        wedding   \n",
       "5  fit   734848       32b   364092  138lbs     8.0           date   \n",
       "\n",
       "                                         review_text          body type  \\\n",
       "0  An adorable romper! Belt and zipper were a lit...          hourglass   \n",
       "1  I rented this dress for a photo shoot. The the...  straight & narrow   \n",
       "3  I rented this for my company's black tie award...               pear   \n",
       "4  I have always been petite in my upper body and...           athletic   \n",
       "5  Didn't actually wear it. It fit perfectly. The...           athletic   \n",
       "\n",
       "                                     review_summary category height  size  \\\n",
       "0                              So many compliments!   romper  5' 8\"    14   \n",
       "1                           I felt so glamourous!!!     gown  5' 6\"    12   \n",
       "3  Dress arrived on time and in perfect condition.     dress  5' 5\"     8   \n",
       "4                   Was in love with this dress !!!     gown  5' 9\"    12   \n",
       "5                   Traditional with a touch a sass    dress  5' 8\"     8   \n",
       "\n",
       "    age         review_date  \n",
       "0  28.0      April 20, 2016  \n",
       "1  36.0       June 18, 2013  \n",
       "3  34.0   February 12, 2014  \n",
       "4  27.0  September 26, 2016  \n",
       "5  45.0      April 30, 2016  "
      ]
     },
     "execution_count": 292,
     "metadata": {},
     "output_type": "execute_result"
    }
   ],
   "source": [
    "# Missing values\n",
    "\n",
    "product_descriptions = product_descriptions.dropna()\n",
    "product_descriptions.shape\n",
    "product_descriptions.head()"
   ]
  },
  {
   "cell_type": "code",
   "execution_count": 293,
   "metadata": {
    "execution": {
     "iopub.execute_input": "2024-04-07T17:40:30.884151Z",
     "iopub.status.busy": "2024-04-07T17:40:30.883757Z",
     "iopub.status.idle": "2024-04-07T17:40:30.890955Z",
     "shell.execute_reply": "2024-04-07T17:40:30.890005Z",
     "shell.execute_reply.started": "2024-04-07T17:40:30.884081Z"
    }
   },
   "outputs": [
    {
     "data": {
      "text/plain": [
       "(146381, 15)"
      ]
     },
     "execution_count": 293,
     "metadata": {},
     "output_type": "execute_result"
    }
   ],
   "source": [
    "product_descriptions.shape"
   ]
  },
  {
   "cell_type": "code",
   "execution_count": 294,
   "metadata": {
    "execution": {
     "iopub.execute_input": "2024-04-07T17:40:30.892895Z",
     "iopub.status.busy": "2024-04-07T17:40:30.892393Z",
     "iopub.status.idle": "2024-04-07T17:40:30.907458Z",
     "shell.execute_reply": "2024-04-07T17:40:30.906341Z",
     "shell.execute_reply.started": "2024-04-07T17:40:30.892717Z"
    }
   },
   "outputs": [
    {
     "data": {
      "text/plain": [
       "0     An adorable romper! Belt and zipper were a lit...\n",
       "1     I rented this dress for a photo shoot. The the...\n",
       "3     I rented this for my company's black tie award...\n",
       "4     I have always been petite in my upper body and...\n",
       "5     Didn't actually wear it. It fit perfectly. The...\n",
       "6     This dress is so sweet. I loved the print. The...\n",
       "7     Fit was great. Maybe a little tight under the ...\n",
       "9     The dress was very flattering and fit perfectl...\n",
       "10    The dress arrived with a small hole in the bea...\n",
       "11    This dress was absolutely gorgeous and I recei...\n",
       "Name: review_text, dtype: object"
      ]
     },
     "execution_count": 294,
     "metadata": {},
     "output_type": "execute_result"
    }
   ],
   "source": [
    "product_descriptions1 = product_descriptions.head(500)\n",
    "# product_descriptions1.iloc[:,1]\n",
    "\n",
    "product_descriptions1[\"review_text\"].head(10)"
   ]
  },
  {
   "cell_type": "markdown",
   "metadata": {},
   "source": [
    "#### Feature extraction from product descriptions\n",
    "\n",
    "Converting the text in product description into numerical data for analysis"
   ]
  },
  {
   "cell_type": "code",
   "execution_count": 295,
   "metadata": {
    "execution": {
     "iopub.execute_input": "2024-04-07T17:40:30.909618Z",
     "iopub.status.busy": "2024-04-07T17:40:30.909254Z",
     "iopub.status.idle": "2024-04-07T17:40:30.969791Z",
     "shell.execute_reply": "2024-04-07T17:40:30.968723Z",
     "shell.execute_reply.started": "2024-04-07T17:40:30.909556Z"
    }
   },
   "outputs": [
    {
     "data": {
      "text/plain": [
       "<500x2302 sparse matrix of type '<class 'numpy.float64'>'\n",
       "\twith 11700 stored elements in Compressed Sparse Row format>"
      ]
     },
     "execution_count": 295,
     "metadata": {},
     "output_type": "execute_result"
    }
   ],
   "source": [
    "vectorizer = TfidfVectorizer(stop_words='english')\n",
    "X1 = vectorizer.fit_transform(product_descriptions1[\"review_text\"])\n",
    "X1"
   ]
  },
  {
   "cell_type": "code",
   "execution_count": 296,
   "metadata": {},
   "outputs": [
    {
     "data": {
      "text/plain": [
       "(500, 2302)"
      ]
     },
     "execution_count": 296,
     "metadata": {},
     "output_type": "execute_result"
    }
   ],
   "source": [
    "X1.shape"
   ]
  },
  {
   "cell_type": "markdown",
   "metadata": {},
   "source": [
    "#### Visualizing product clusters in subset of data"
   ]
  },
  {
   "cell_type": "code",
   "execution_count": 297,
   "metadata": {
    "execution": {
     "iopub.execute_input": "2024-04-07T17:40:30.971497Z",
     "iopub.status.busy": "2024-04-07T17:40:30.971214Z",
     "iopub.status.idle": "2024-04-07T17:40:34.564231Z",
     "shell.execute_reply": "2024-04-07T17:40:34.562773Z",
     "shell.execute_reply.started": "2024-04-07T17:40:30.971445Z"
    }
   },
   "outputs": [
    {
     "data": {
      "image/png": "[encoded data removed]",
      "text/plain": [
       "<Figure size 432x288 with 1 Axes>"
      ]
     },
     "metadata": {},
     "output_type": "display_data"
    }
   ],
   "source": [
    "# Fitting K-Means to the dataset\n",
    "\n",
    "X=X1\n",
    "\n",
    "kmeans = KMeans(n_clusters = 10, init = 'k-means++')\n",
    "# diff init can be tried\n",
    "\n",
    "# need to seet n_clusters \n",
    "\n",
    "\n",
    "y_kmeans = kmeans.fit_predict(X)\n",
    "plt.plot(y_kmeans, \".\")\n",
    "plt.show()\n"
   ]
  },
  {
   "cell_type": "markdown",
   "metadata": {},
   "source": [
    "F"
   ]
  },
  {
   "cell_type": "code",
   "execution_count": 298,
   "metadata": {
    "execution": {
     "iopub.execute_input": "2024-04-07T17:40:34.567737Z",
     "iopub.status.busy": "2024-04-07T17:40:34.567056Z",
     "iopub.status.idle": "2024-04-07T17:40:34.577621Z",
     "shell.execute_reply": "2024-04-07T17:40:34.576142Z",
     "shell.execute_reply.started": "2024-04-07T17:40:34.567515Z"
    }
   },
   "outputs": [],
   "source": [
    "def print_cluster(i):\n",
    "    print(\"Cluster %d:\" % i),\n",
    "    for ind in order_centroids[i, :10]:\n",
    "        print(' %s' % terms[ind]),\n",
    "    print"
   ]
  },
  {
   "cell_type": "markdown",
   "metadata": {},
   "source": [
    "## Output\n",
    "* Recommendation of product based on the current product selected by user.\n",
    "* To recommend related product based on, Frequently bought together. "
   ]
  },
  {
   "cell_type": "markdown",
   "metadata": {},
   "source": [
    "#### Top words in each cluster based on product description"
   ]
  },
  {
   "cell_type": "code",
   "execution_count": 299,
   "metadata": {
    "execution": {
     "iopub.execute_input": "2024-04-07T17:40:34.581133Z",
     "iopub.status.busy": "2024-04-07T17:40:34.580189Z",
     "iopub.status.idle": "2024-04-07T17:40:34.975139Z",
     "shell.execute_reply": "2024-04-07T17:40:34.973737Z",
     "shell.execute_reply.started": "2024-04-07T17:40:34.581047Z"
    }
   },
   "outputs": [
    {
     "name": "stdout",
     "output_type": "stream",
     "text": [
      "Top terms per cluster:\n",
      "Cluster 0:\n",
      " makes\n",
      " look\n",
      " dress\n",
      " size\n",
      " low\n",
      " pull\n",
      " absolutely\n",
      " fit\n",
      " way\n",
      " love\n",
      "Cluster 1:\n",
      " dress\n",
      " size\n",
      " loved\n",
      " tight\n",
      " dinner\n",
      " wore\n",
      " got\n",
      " gorgeous\n",
      " beautiful\n",
      " ordered\n",
      "Cluster 2:\n",
      " dress\n",
      " wear\n",
      " bra\n",
      " color\n",
      " love\n",
      " rent\n",
      " little\n",
      " fit\n",
      " fabric\n",
      " just\n",
      "Cluster 3:\n",
      " dress\n",
      " day\n",
      " wore\n",
      " compliments\n",
      " like\n",
      " wear\n",
      " want\n",
      " bra\n",
      " perfect\n",
      " straps\n",
      "Cluster 4:\n",
      " dress\n",
      " runs\n",
      " large\n",
      " wear\n",
      " little\n",
      " wore\n",
      " perfect\n",
      " size\n",
      " short\n",
      " small\n",
      "Cluster 5:\n",
      " long\n",
      " fit\n",
      " perfectly\n",
      " dress\n",
      " little\n",
      " heels\n",
      " short\n",
      " wear\n",
      " way\n",
      " dresses\n",
      "Cluster 6:\n",
      " size\n",
      " dress\n",
      " perfect\n",
      " fit\n",
      " true\n",
      " got\n",
      " compliments\n",
      " night\n",
      " definitely\n",
      " recommend\n",
      "Cluster 7:\n",
      " comfortable\n",
      " slightly\n",
      " stretch\n",
      " flattering\n",
      " fit\n",
      " short\n",
      " dress\n",
      " recommend\n",
      " great\n",
      " room\n",
      "Cluster 8:\n",
      " great\n",
      " dress\n",
      " super\n",
      " didn\n",
      " tight\n",
      " like\n",
      " wasn\n",
      " fit\n",
      " flattering\n",
      " little\n",
      "Cluster 9:\n",
      " picture\n",
      " dress\n",
      " cleavage\n",
      " pin\n",
      " wore\n",
      " area\n",
      " bust\n",
      " big\n",
      " comfortable\n",
      " bridesmaid\n"
     ]
    }
   ],
   "source": [
    "# # Optimal clusters is need to find as of now based on occasions and dress types 10 seemed good \n",
    "\n",
    "true_k = 10\n",
    "\n",
    "model = KMeans(n_clusters=true_k, init='k-means++', max_iter=100, n_init=1)\n",
    "model.fit(X1)\n",
    "\n",
    "print(\"Top terms per cluster:\")\n",
    "order_centroids = model.cluster_centers_.argsort()[:, ::-1]\n",
    "terms = vectorizer.get_feature_names_out()\n",
    "for i in range(true_k):\n",
    "    print_cluster(i)"
   ]
  },
  {
   "cell_type": "markdown",
   "metadata": {},
   "source": [
    "#### Predicting clusters based on key search words"
   ]
  },
  {
   "cell_type": "code",
   "execution_count": 300,
   "metadata": {
    "execution": {
     "iopub.execute_input": "2024-04-07T17:40:34.978042Z",
     "iopub.status.busy": "2024-04-07T17:40:34.977454Z",
     "iopub.status.idle": "2024-04-07T17:40:34.995574Z",
     "shell.execute_reply": "2024-04-07T17:40:34.993111Z",
     "shell.execute_reply.started": "2024-04-07T17:40:34.977960Z"
    }
   },
   "outputs": [],
   "source": [
    "def show_recommendations(product):\n",
    "    #print(\"Cluster ID:\")\n",
    "    Y = vectorizer.transform([product])\n",
    "    prediction = model.predict(Y)\n",
    "    #print(prediction)\n",
    "    print_cluster(prediction[0])"
   ]
  },
  {
   "cell_type": "markdown",
   "metadata": {},
   "source": [
    "* **Keyword : ** cutting tool"
   ]
  },
  {
   "cell_type": "code",
   "execution_count": 301,
   "metadata": {},
   "outputs": [
    {
     "name": "stdout",
     "output_type": "stream",
     "text": [
      "Cluster 4:\n",
      " dress\n",
      " runs\n",
      " large\n",
      " wear\n",
      " little\n",
      " wore\n",
      " perfect\n",
      " size\n",
      " short\n",
      " small\n",
      "Recommended Product IDs: [722678, 125564, 141761, 1318793, 2650125, 1526552, 757774, 1420896, 1754771, 168592, 1896920, 168610, 1108555, 136860, 1112658, 414009, 567599, 963476, 313821, 1875650, 330238, 532135, 295745, 183194, 1490515, 668280, 131533, 131533, 517998, 1516843, 466944, 123793, 1776178, 2122960, 865225, 2400816, 139792, 2577550, 182578, 755371, 2160087, 154002, 1337205, 2760153]\n"
     ]
    }
   ],
   "source": [
    "import numpy as np\n",
    "\n",
    "product_ids = product_descriptions1[\"item_id\"].values\n",
    "\n",
    "cluster_indices = {}\n",
    "\n",
    "for i in range(len(product_ids)):\n",
    "    cluster_label = y_kmeans[i]\n",
    "    if cluster_label not in cluster_indices:\n",
    "        cluster_indices[cluster_label] = []\n",
    "    cluster_indices[cluster_label].append(i)\n",
    "\n",
    "def show_recommendations(product):\n",
    "    Y = vectorizer.transform([product])\n",
    "    prediction = model.predict(Y)\n",
    "    cluster_label = prediction[0]\n",
    "    print_cluster(cluster_label)\n",
    "\n",
    "    recommended_indices = cluster_indices[cluster_label]\n",
    "    recommended_product_ids = [product_ids[idx] for idx in recommended_indices]\n",
    "    print(\"Recommended Product IDs:\", recommended_product_ids)\n",
    "\n",
    "show_recommendations(\"Party high cost\")\n"
   ]
  },
  {
   "cell_type": "markdown",
   "metadata": {},
   "source": [
    "* **Keyword : **spray paint"
   ]
  },
  {
   "cell_type": "code",
   "execution_count": 302,
   "metadata": {
    "execution": {
     "iopub.execute_input": "2024-04-07T17:40:35.021769Z",
     "iopub.status.busy": "2024-04-07T17:40:35.021145Z",
     "iopub.status.idle": "2024-04-07T17:40:35.033415Z",
     "shell.execute_reply": "2024-04-07T17:40:35.031820Z",
     "shell.execute_reply.started": "2024-04-07T17:40:35.021700Z"
    }
   },
   "outputs": [
    {
     "name": "stdout",
     "output_type": "stream",
     "text": [
      "Cluster 2:\n",
      " dress\n",
      " wear\n",
      " bra\n",
      " color\n",
      " love\n",
      " rent\n",
      " little\n",
      " fit\n",
      " fabric\n",
      " just\n",
      "Recommended Product IDs: [382883, 1854157, 1379493, 1896920, 714374, 127865, 125465, 152662, 2712258, 127865, 987052, 123793, 2429745, 145906, 1822358, 136110, 616682, 131533, 1220393, 703458, 1126889, 1714731]\n"
     ]
    }
   ],
   "source": [
    "show_recommendations(\"spray\")"
   ]
  },
  {
   "cell_type": "markdown",
   "metadata": {},
   "source": [
    "* **Keyword : **steel drill"
   ]
  },
  {
   "cell_type": "code",
   "execution_count": 303,
   "metadata": {
    "execution": {
     "iopub.execute_input": "2024-04-07T17:40:35.037450Z",
     "iopub.status.busy": "2024-04-07T17:40:35.036629Z",
     "iopub.status.idle": "2024-04-07T17:40:35.060091Z",
     "shell.execute_reply": "2024-04-07T17:40:35.059152Z",
     "shell.execute_reply.started": "2024-04-07T17:40:35.037363Z"
    }
   },
   "outputs": [
    {
     "name": "stdout",
     "output_type": "stream",
     "text": [
      "Cluster 3:\n",
      " dress\n",
      " day\n",
      " wore\n",
      " compliments\n",
      " like\n",
      " wear\n",
      " want\n",
      " bra\n",
      " perfect\n",
      " straps\n",
      "Recommended Product IDs: [616682, 143094, 1064397, 2884139, 131533, 1472909, 259136, 2410627, 126335, 2529552, 1764436, 714374, 224876, 1146287, 883661, 417055, 1671465, 883661, 152836, 141300, 467817, 985087, 139086, 2533108, 1454376, 1057664, 391525, 182915, 131117, 2755484, 721424, 1520680, 862446, 1008562, 1982904, 783906, 795254, 1919019, 595048, 313568, 394079, 2958376, 1188641, 1046957, 1076484, 1595305, 1274956, 1967750, 134393, 195076, 1436642, 1433766, 1881176, 1416608, 2248191, 2273951, 2746761, 730008, 831463, 2417674, 515827, 1571446, 883661, 1080396, 1384766, 1977540, 124204, 141548, 285225, 1187659, 1250367, 1210233, 147594, 312893, 686884, 654025, 146684, 589412, 1505204, 172027, 851656, 1384766, 132135, 152836, 1142056]\n"
     ]
    }
   ],
   "source": [
    "show_recommendations(\"sparkly white gown\")"
   ]
  },
  {
   "cell_type": "markdown",
   "metadata": {},
   "source": [
    "In case a word appears in multiple clusters, the algorithm chooses the cluster with the highest frequency of occurance of the word."
   ]
  },
  {
   "cell_type": "markdown",
   "metadata": {},
   "source": [
    "* **Keyword : **water"
   ]
  },
  {
   "cell_type": "code",
   "execution_count": 304,
   "metadata": {
    "execution": {
     "iopub.execute_input": "2024-04-07T17:40:35.062085Z",
     "iopub.status.busy": "2024-04-07T17:40:35.061311Z",
     "iopub.status.idle": "2024-04-07T17:40:35.071622Z",
     "shell.execute_reply": "2024-04-07T17:40:35.070306Z",
     "shell.execute_reply.started": "2024-04-07T17:40:35.062027Z"
    },
    "scrolled": true
   },
   "outputs": [
    {
     "name": "stdout",
     "output_type": "stream",
     "text": [
      "Cluster 2:\n",
      " dress\n",
      " wear\n",
      " bra\n",
      " color\n",
      " love\n",
      " rent\n",
      " little\n",
      " fit\n",
      " fabric\n",
      " just\n",
      "Recommended Product IDs: [382883, 1854157, 1379493, 1896920, 714374, 127865, 125465, 152662, 2712258, 127865, 987052, 123793, 2429745, 145906, 1822358, 136110, 616682, 131533, 1220393, 703458, 1126889, 1714731]\n"
     ]
    }
   ],
   "source": [
    "show_recommendations(\"grey goth hoodie\")"
   ]
  }
 ],
 "metadata": {
  "kaggle": {
   "accelerator": "none",
   "dataSources": [
    {
     "databundleVersionId": 36114,
     "sourceId": 4853,
     "sourceType": "competition"
    },
    {
     "datasetId": 33019,
     "sourceId": 43260,
     "sourceType": "datasetVersion"
    },
    {
     "datasetId": 45560,
     "sourceId": 83170,
     "sourceType": "datasetVersion"
    }
   ],
   "dockerImageVersionId": 29271,
   "isGpuEnabled": false,
   "isInternetEnabled": false,
   "language": "python",
   "sourceType": "notebook"
  },
  "kernelspec": {
   "display_name": "Python 3",
   "language": "python",
   "name": "python3"
  },
  "language_info": {
   "codemirror_mode": {
    "name": "ipython",
    "version": 3
   },
   "file_extension": ".py",
   "mimetype": "text/x-python",
   "name": "python",
   "nbconvert_exporter": "python",
   "pygments_lexer": "ipython3",
   "version": "3.9.13"
  }
 },
 "nbformat": 4,
 "nbformat_minor": 4
}
